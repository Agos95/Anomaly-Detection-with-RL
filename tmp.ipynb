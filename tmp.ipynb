{
 "cells": [
  {
   "cell_type": "code",
   "execution_count": 1,
   "metadata": {},
   "outputs": [],
   "source": [
    "%load_ext autoreload\n",
    "%autoreload 2"
   ]
  },
  {
   "cell_type": "code",
   "execution_count": 2,
   "metadata": {},
   "outputs": [],
   "source": [
    "import pandas as pd\n",
    "from dataset import TSDataset"
   ]
  },
  {
   "cell_type": "code",
   "execution_count": 3,
   "metadata": {},
   "outputs": [],
   "source": [
    "data = TSDataset(\"data/rastro.tar.gz\", resample=\"15min\", window=\"3H\", stride=\"15min\", label_type=\"last\")"
   ]
  },
  {
   "cell_type": "code",
   "execution_count": 4,
   "metadata": {},
   "outputs": [
    {
     "data": {
      "text/html": [
       "<div>\n",
       "<style scoped>\n",
       "    .dataframe tbody tr th:only-of-type {\n",
       "        vertical-align: middle;\n",
       "    }\n",
       "\n",
       "    .dataframe tbody tr th {\n",
       "        vertical-align: top;\n",
       "    }\n",
       "\n",
       "    .dataframe thead th {\n",
       "        text-align: right;\n",
       "    }\n",
       "</style>\n",
       "<table border=\"1\" class=\"dataframe\">\n",
       "  <thead>\n",
       "    <tr style=\"text-align: right;\">\n",
       "      <th></th>\n",
       "      <th>overallusers</th>\n",
       "      <th>overallrbdw</th>\n",
       "      <th>overallrbdwmean</th>\n",
       "      <th>overallrbdwstd</th>\n",
       "      <th>overallratedw</th>\n",
       "      <th>overallratedwmean</th>\n",
       "      <th>overallratedwstd</th>\n",
       "      <th>overallmsgdw</th>\n",
       "      <th>overallretxdw</th>\n",
       "      <th>overallrbup</th>\n",
       "      <th>overallrbupmean</th>\n",
       "      <th>overallrbupstd</th>\n",
       "      <th>overallrateup</th>\n",
       "      <th>overallrateupmean</th>\n",
       "      <th>overallrateupstd</th>\n",
       "      <th>overallmsgup</th>\n",
       "      <th>overallretxup</th>\n",
       "    </tr>\n",
       "    <tr>\n",
       "      <th>overalltime</th>\n",
       "      <th></th>\n",
       "      <th></th>\n",
       "      <th></th>\n",
       "      <th></th>\n",
       "      <th></th>\n",
       "      <th></th>\n",
       "      <th></th>\n",
       "      <th></th>\n",
       "      <th></th>\n",
       "      <th></th>\n",
       "      <th></th>\n",
       "      <th></th>\n",
       "      <th></th>\n",
       "      <th></th>\n",
       "      <th></th>\n",
       "      <th></th>\n",
       "      <th></th>\n",
       "    </tr>\n",
       "  </thead>\n",
       "  <tbody>\n",
       "    <tr>\n",
       "      <th>2016-06-29 22:45:00</th>\n",
       "      <td>11.326360</td>\n",
       "      <td>1620.974895</td>\n",
       "      <td>17.822028</td>\n",
       "      <td>15.555806</td>\n",
       "      <td>320572.552301</td>\n",
       "      <td>2759.098810</td>\n",
       "      <td>3717.856770</td>\n",
       "      <td>65.740586</td>\n",
       "      <td>2.393305</td>\n",
       "      <td>1902.949791</td>\n",
       "      <td>5.048400</td>\n",
       "      <td>4.779209</td>\n",
       "      <td>175337.807531</td>\n",
       "      <td>473.210321</td>\n",
       "      <td>528.465686</td>\n",
       "      <td>246.786611</td>\n",
       "      <td>130.146444</td>\n",
       "    </tr>\n",
       "    <tr>\n",
       "      <th>2016-06-29 23:00:00</th>\n",
       "      <td>8.942438</td>\n",
       "      <td>2001.747178</td>\n",
       "      <td>17.167866</td>\n",
       "      <td>13.248523</td>\n",
       "      <td>459400.550790</td>\n",
       "      <td>2878.320688</td>\n",
       "      <td>3357.093614</td>\n",
       "      <td>63.890519</td>\n",
       "      <td>3.336343</td>\n",
       "      <td>1671.049661</td>\n",
       "      <td>6.471690</td>\n",
       "      <td>5.327218</td>\n",
       "      <td>141454.726862</td>\n",
       "      <td>544.647646</td>\n",
       "      <td>519.500655</td>\n",
       "      <td>184.696388</td>\n",
       "      <td>47.353273</td>\n",
       "    </tr>\n",
       "    <tr>\n",
       "      <th>2016-06-29 23:15:00</th>\n",
       "      <td>5.801347</td>\n",
       "      <td>419.026936</td>\n",
       "      <td>11.592087</td>\n",
       "      <td>9.909665</td>\n",
       "      <td>69661.342312</td>\n",
       "      <td>1347.457282</td>\n",
       "      <td>1781.257746</td>\n",
       "      <td>22.658810</td>\n",
       "      <td>0.611672</td>\n",
       "      <td>637.561167</td>\n",
       "      <td>4.049554</td>\n",
       "      <td>4.069920</td>\n",
       "      <td>75231.712682</td>\n",
       "      <td>443.900515</td>\n",
       "      <td>511.577821</td>\n",
       "      <td>97.689113</td>\n",
       "      <td>49.301908</td>\n",
       "    </tr>\n",
       "    <tr>\n",
       "      <th>2016-06-29 23:30:00</th>\n",
       "      <td>5.908380</td>\n",
       "      <td>774.012291</td>\n",
       "      <td>12.789217</td>\n",
       "      <td>10.436806</td>\n",
       "      <td>132585.260335</td>\n",
       "      <td>1461.036512</td>\n",
       "      <td>1789.611963</td>\n",
       "      <td>31.029050</td>\n",
       "      <td>1.035754</td>\n",
       "      <td>848.322905</td>\n",
       "      <td>4.700708</td>\n",
       "      <td>4.467596</td>\n",
       "      <td>84364.353073</td>\n",
       "      <td>478.772460</td>\n",
       "      <td>516.399209</td>\n",
       "      <td>116.749721</td>\n",
       "      <td>40.617877</td>\n",
       "    </tr>\n",
       "    <tr>\n",
       "      <th>2016-06-29 23:45:00</th>\n",
       "      <td>6.044118</td>\n",
       "      <td>1505.507919</td>\n",
       "      <td>18.447135</td>\n",
       "      <td>15.354624</td>\n",
       "      <td>284745.013575</td>\n",
       "      <td>1597.793570</td>\n",
       "      <td>1754.266465</td>\n",
       "      <td>63.424208</td>\n",
       "      <td>1.881222</td>\n",
       "      <td>1623.454751</td>\n",
       "      <td>4.412954</td>\n",
       "      <td>3.001752</td>\n",
       "      <td>186715.574661</td>\n",
       "      <td>535.857540</td>\n",
       "      <td>386.094918</td>\n",
       "      <td>248.842760</td>\n",
       "      <td>154.144796</td>\n",
       "    </tr>\n",
       "  </tbody>\n",
       "</table>\n",
       "</div>"
      ],
      "text/plain": [
       "                     overallusers  overallrbdw  overallrbdwmean  \\\n",
       "overalltime                                                       \n",
       "2016-06-29 22:45:00     11.326360  1620.974895        17.822028   \n",
       "2016-06-29 23:00:00      8.942438  2001.747178        17.167866   \n",
       "2016-06-29 23:15:00      5.801347   419.026936        11.592087   \n",
       "2016-06-29 23:30:00      5.908380   774.012291        12.789217   \n",
       "2016-06-29 23:45:00      6.044118  1505.507919        18.447135   \n",
       "\n",
       "                     overallrbdwstd  overallratedw  overallratedwmean  \\\n",
       "overalltime                                                             \n",
       "2016-06-29 22:45:00       15.555806  320572.552301        2759.098810   \n",
       "2016-06-29 23:00:00       13.248523  459400.550790        2878.320688   \n",
       "2016-06-29 23:15:00        9.909665   69661.342312        1347.457282   \n",
       "2016-06-29 23:30:00       10.436806  132585.260335        1461.036512   \n",
       "2016-06-29 23:45:00       15.354624  284745.013575        1597.793570   \n",
       "\n",
       "                     overallratedwstd  overallmsgdw  overallretxdw  \\\n",
       "overalltime                                                          \n",
       "2016-06-29 22:45:00       3717.856770     65.740586       2.393305   \n",
       "2016-06-29 23:00:00       3357.093614     63.890519       3.336343   \n",
       "2016-06-29 23:15:00       1781.257746     22.658810       0.611672   \n",
       "2016-06-29 23:30:00       1789.611963     31.029050       1.035754   \n",
       "2016-06-29 23:45:00       1754.266465     63.424208       1.881222   \n",
       "\n",
       "                     overallrbup  overallrbupmean  overallrbupstd  \\\n",
       "overalltime                                                         \n",
       "2016-06-29 22:45:00  1902.949791         5.048400        4.779209   \n",
       "2016-06-29 23:00:00  1671.049661         6.471690        5.327218   \n",
       "2016-06-29 23:15:00   637.561167         4.049554        4.069920   \n",
       "2016-06-29 23:30:00   848.322905         4.700708        4.467596   \n",
       "2016-06-29 23:45:00  1623.454751         4.412954        3.001752   \n",
       "\n",
       "                     overallrateup  overallrateupmean  overallrateupstd  \\\n",
       "overalltime                                                               \n",
       "2016-06-29 22:45:00  175337.807531         473.210321        528.465686   \n",
       "2016-06-29 23:00:00  141454.726862         544.647646        519.500655   \n",
       "2016-06-29 23:15:00   75231.712682         443.900515        511.577821   \n",
       "2016-06-29 23:30:00   84364.353073         478.772460        516.399209   \n",
       "2016-06-29 23:45:00  186715.574661         535.857540        386.094918   \n",
       "\n",
       "                     overallmsgup  overallretxup  \n",
       "overalltime                                       \n",
       "2016-06-29 22:45:00    246.786611     130.146444  \n",
       "2016-06-29 23:00:00    184.696388      47.353273  \n",
       "2016-06-29 23:15:00     97.689113      49.301908  \n",
       "2016-06-29 23:30:00    116.749721      40.617877  \n",
       "2016-06-29 23:45:00    248.842760     154.144796  "
      ]
     },
     "execution_count": 4,
     "metadata": {},
     "output_type": "execute_result"
    }
   ],
   "source": [
    "data.df.head()"
   ]
  },
  {
   "cell_type": "code",
   "execution_count": 5,
   "metadata": {},
   "outputs": [
    {
     "data": {
      "text/plain": [
       "DatetimeIndex(['2016-07-03 09:00:00', '2016-07-03 09:15:00',\n",
       "               '2016-07-03 09:30:00', '2016-07-03 09:45:00',\n",
       "               '2016-07-03 10:00:00', '2016-07-03 10:15:00',\n",
       "               '2016-07-03 10:30:00', '2016-07-03 10:45:00',\n",
       "               '2016-07-03 11:00:00', '2016-07-03 11:15:00',\n",
       "               ...\n",
       "               '2016-07-24 13:45:00', '2016-07-24 14:00:00',\n",
       "               '2016-07-24 14:15:00', '2016-07-24 14:30:00',\n",
       "               '2016-07-24 14:45:00', '2016-07-24 15:00:00',\n",
       "               '2016-07-24 15:15:00', '2016-07-24 15:30:00',\n",
       "               '2016-07-24 15:45:00', '2016-07-24 16:00:00'],\n",
       "              dtype='datetime64[ns]', length=116, freq=None)"
      ]
     },
     "execution_count": 5,
     "metadata": {},
     "output_type": "execute_result"
    }
   ],
   "source": [
    "data.anomaly"
   ]
  },
  {
   "cell_type": "code",
   "execution_count": 6,
   "metadata": {},
   "outputs": [
    {
     "data": {
      "text/plain": [
       "1"
      ]
     },
     "execution_count": 6,
     "metadata": {},
     "output_type": "execute_result"
    }
   ],
   "source": [
    "data.y[1000]"
   ]
  },
  {
   "cell_type": "code",
   "execution_count": 9,
   "metadata": {},
   "outputs": [],
   "source": [
    "X_train, X_test, y_train, y_test = data.train_test_split()"
   ]
  },
  {
   "cell_type": "code",
   "execution_count": 10,
   "metadata": {},
   "outputs": [
    {
     "name": "stdout",
     "output_type": "stream",
     "text": [
      "(2115, 13, 17)\n",
      "(706, 13, 17)\n",
      "(2115,)\n",
      "(706,)\n"
     ]
    }
   ],
   "source": [
    "print(X_train.shape)\n",
    "print(X_test.shape)\n",
    "print(y_train.shape)\n",
    "print(y_test.shape)"
   ]
  },
  {
   "cell_type": "code",
   "execution_count": 13,
   "metadata": {},
   "outputs": [
    {
     "data": {
      "text/plain": [
       "(2821, 13, 17)"
      ]
     },
     "execution_count": 13,
     "metadata": {},
     "output_type": "execute_result"
    }
   ],
   "source": [
    "data.X.shape"
   ]
  },
  {
   "cell_type": "code",
   "execution_count": null,
   "metadata": {},
   "outputs": [],
   "source": []
  }
 ],
 "metadata": {
  "interpreter": {
   "hash": "b90bfe1963307ac3a1db333ec0acdc736f9a8d8211c68d52524f4b23824a093d"
  },
  "kernelspec": {
   "display_name": "Python 3.9.12 ('pip')",
   "language": "python",
   "name": "python3"
  },
  "language_info": {
   "codemirror_mode": {
    "name": "ipython",
    "version": 3
   },
   "file_extension": ".py",
   "mimetype": "text/x-python",
   "name": "python",
   "nbconvert_exporter": "python",
   "pygments_lexer": "ipython3",
   "version": "3.9.12"
  },
  "orig_nbformat": 4
 },
 "nbformat": 4,
 "nbformat_minor": 2
}
